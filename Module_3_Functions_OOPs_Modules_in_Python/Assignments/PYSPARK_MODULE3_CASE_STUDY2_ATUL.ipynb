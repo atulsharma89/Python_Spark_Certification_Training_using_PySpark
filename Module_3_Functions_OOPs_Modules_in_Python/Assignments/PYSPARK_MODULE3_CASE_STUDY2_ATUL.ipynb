{
 "cells": [
  {
   "cell_type": "code",
   "execution_count": null,
   "metadata": {},
   "outputs": [],
   "source": [
    "Domain – Banking Marketing focus – Optimization\n",
    "\n",
    "Business challenge/requirement\n",
    "\n",
    "Bank of Portugal runs marketing campaign to offer loans to clients. Loan is offered to only clients with particular \n",
    "professions. List of successful campaigns (with client data) is given in attached dataset. You have to come up \n",
    "with program which reads the file and builds a set of unique profession list \n",
    "and given input profession of client – system tells whether client is eligible to be \n",
    "approached for marketing campaign.\n",
    "\n",
    "\n",
    "Key issues\n",
    "Tele Caller can only make x number of cold calls in a day. \n",
    "Hence to increase her effectiveness only eligible customers should be called\n",
    "\n",
    "Considerations\n",
    "Current system does not differentiate clients based on age and profession\n",
    "\n",
    "Data volume\n",
    "447 records in bank-data.csv\n",
    "\n",
    "\n",
    "Additional information - NA\n",
    "\n",
    "Business benefits\n",
    "Company can achieve between 15% to 20% higher conversion by targeting right clients\n",
    "\n",
    "Approach to Solve\n",
    "\n",
    "You have to use fundamentals of Python taught in module 3\n",
    "\n",
    "1. Read file bank-data.csv\n",
    "2. Build a set of unique jobs\n",
    "3. Read the input from command line –profession\n",
    "4. Check if profession is in list\n",
    "5. Print whether client is eligible"
   ]
  },
  {
   "cell_type": "code",
   "execution_count": 1,
   "metadata": {},
   "outputs": [
    {
     "name": "stdout",
     "output_type": "stream",
     "text": [
      "['entrepreneur', 'student', 'management', 'technician', 'services', 'admin.', 'housemaid', 'blue-collar', 'self-employed']\n"
     ]
    }
   ],
   "source": [
    "import csv\n",
    "lst=[]\n",
    "with open('/Users/atul595525/Desktop/learning/Edureka_courses/Python_Spark_Certification_Training_using_PySpark/Module_3_Functions_OOPs_Modules_in_Python/651_m3_datasets_v1.0/bank-data.csv', 'r') as csvFile:\n",
    "    reader = csv.reader(csvFile)\n",
    "    next(reader, None)\n",
    "    for row in reader:\n",
    "        #print(row[1])\n",
    "        lst.append(row[1])\n",
    "print(list(set(lst)))"
   ]
  },
  {
   "cell_type": "code",
   "execution_count": 2,
   "metadata": {},
   "outputs": [
    {
     "name": "stdout",
     "output_type": "stream",
     "text": [
      "Enter Profession using comma separated values technician\n",
      "['technician']\n"
     ]
    }
   ],
   "source": [
    "#my_set = {\"management\", \"services\", \"technician\"}\n",
    "#print(my_set)\n",
    "\n",
    "my_input=input(\"Enter Profession using comma separated values \")\n",
    "\n",
    "my_set = [word for word in my_input.split(\",\")]\n",
    "print(sorted(my_set))"
   ]
  },
  {
   "cell_type": "code",
   "execution_count": 3,
   "metadata": {},
   "outputs": [
    {
     "name": "stdout",
     "output_type": "stream",
     "text": [
      "Yes, list is subset of other. AND client is eligible\n"
     ]
    }
   ],
   "source": [
    "# printing original lists \n",
    "#print (\"Original list : \" + str(lst)) \n",
    "#print (\"Original sub list : \" + str(my_set)) \n",
    "  \n",
    "# using all() to  \n",
    "# check subset of list  \n",
    "flag = 0\n",
    "if(all(x in lst for x in my_set)): \n",
    "    flag = 1\n",
    "      \n",
    "# printing result \n",
    "if (flag) : \n",
    "    print (\"Yes, list is subset of other. AND client is eligible\") \n",
    "else : \n",
    "    print (\"No, list is not subset of other. AND client is NOT eligible\") "
   ]
  },
  {
   "cell_type": "code",
   "execution_count": null,
   "metadata": {},
   "outputs": [],
   "source": []
  }
 ],
 "metadata": {
  "kernelspec": {
   "display_name": "Python 3",
   "language": "python",
   "name": "python3"
  },
  "language_info": {
   "codemirror_mode": {
    "name": "ipython",
    "version": 3
   },
   "file_extension": ".py",
   "mimetype": "text/x-python",
   "name": "python",
   "nbconvert_exporter": "python",
   "pygments_lexer": "ipython3",
   "version": "3.7.3"
  }
 },
 "nbformat": 4,
 "nbformat_minor": 2
}
