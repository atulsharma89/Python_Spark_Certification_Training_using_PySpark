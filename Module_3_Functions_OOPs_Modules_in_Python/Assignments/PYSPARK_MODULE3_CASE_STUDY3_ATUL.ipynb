{
 "cells": [
  {
   "cell_type": "code",
   "execution_count": null,
   "metadata": {},
   "outputs": [],
   "source": [
    "Domain – E-Commerce\n",
    "\n",
    "focus – Optimization\n",
    "\n",
    "Business challenge/requirement\n",
    "GoodsKart—largest ecommerce company of Indonesia with revenue of $2B+\n",
    "acquired another ecommerce company FairDeal. FairDeal has its own IT system to\n",
    "maintain records of customer, sales etc. For ease of maintenance and cost savings\n",
    "GoodsKart is integrating customer databases of both the organizations hence\n",
    "customer data of FairDeal has to be converted in GoodsKart Customer Format.\n",
    "\n",
    "\n",
    "Key issues\n",
    "GoodsKart customer data has more fields than in FairDeal customer data. Hence\n",
    "FairDeal data needs to be split and stored in GoodsKart Customer Object Oriented\n",
    "\n",
    "\n",
    "Data Structure\n",
    "\n",
    "\n",
    "Considerations\n",
    "System should convert the data at run time\n",
    "\n",
    "\n",
    "Data volume\n",
    "- NA\n",
    "\n",
    "\n",
    "Additional information\n",
    "- NA\n",
    "\n",
    "Business benefits\n",
    "\n",
    "GoodsKart can eventually sunset IT systems of FairDeal and reduce IT cost by 20-30%\n",
    "\n",
    "Approach to Solve\n",
    "You have to use fundamentals of Python taught in module 3.\n",
    "1. Read FairDealCustomerData.csv\n",
    "2. Name field contains full name – use regular expression to separate title, first\n",
    "name, last name\n",
    "3. Store the data in Customer Class\n",
    "4. Create Custom Exception – CustomerNotAllowedException\n",
    "Module 3 – Deep Dive - Functions, OOPs, Modules, Errors and Exceptions\n",
    "© B r a i n 4 c e E d u c a t i o n S o l u t i o n s P v t . L t d Page 2\n",
    "5. Pass a customer to function \"createOrder\" and throw\n",
    "CustomerNotAllowedException in case of blacklisted value is 1\n",
    "Enhancements for code\n",
    "You can try these enhancements in code\n",
    "1. Change function createOrder to take productname and product code as input\n",
    "2. Create Class Order\n",
    "Return object of type Order in case customer is eligible"
   ]
  },
  {
   "cell_type": "code",
   "execution_count": 4,
   "metadata": {},
   "outputs": [],
   "source": [
    "import re\n",
    "class CustomerNotAllowedException():\n",
    "    pass\n",
    "\n",
    "class Customer():\n",
    "    title=\"\"\n",
    "    firstname=\"\"\n",
    "    lastname=\"\"\n",
    "    isblacklisted=0\n",
    "    custList = []\n",
    "    def __init__(self):\n",
    "        customerdata=open('/Users/atul595525/Desktop/651_m3_datasets_v1.0/FairDealCustomerData.csv', 'r')\n",
    "        # custList = []\n",
    "        for data in customerdata:\n",
    "            data = data.rstrip('\\n')\n",
    "            lastname = data.split(',')[0]\n",
    "            firstname = data.split('.')[0]\n",
    "            firstname = firstname.split(',')[0]\n",
    "            title = data.split(',')[1]\n",
    "            title = title.split('.')[0]\n",
    "            isblacklisted = data.split(',')[2]\n",
    "            self.custList.append(title.strip()+firstname+lastname+\" \"+isblacklisted)\n",
    "\n",
    "        customerdata.close()\n",
    "        # l = [self.custList.index(i) for i in self.custList if 'Mr Allen Allen' in i]\n",
    "        # print l\n",
    "\n",
    "    def CreateOrder(self,custName):\n",
    "        try:\n",
    "            # custName = raw_input('Enter a customer name:')\n",
    "            l = [self.custList.index(i) for i in self.custList if self.custName in i]\n",
    "            print (l)\n",
    "            # if bool(re.search('1',self.custList[l]))==True:\n",
    "            #     raise CustomerNotAllowedException\n",
    "\n",
    "        except CustomerNotAllowedException:\n",
    "            pass\n",
    "\n",
    "        else:\n",
    "            pass\n",
    "\n",
    "obj=Customer()\n",
    "#obj.CreateOrder('Miss Heikkinen Heikkinen')"
   ]
  },
  {
   "cell_type": "code",
   "execution_count": 5,
   "metadata": {},
   "outputs": [
    {
     "data": {
      "text/plain": [
       "<__main__.Customer at 0x1052e2cf8>"
      ]
     },
     "execution_count": 5,
     "metadata": {},
     "output_type": "execute_result"
    }
   ],
   "source": [
    "obj"
   ]
  },
  {
   "cell_type": "code",
   "execution_count": null,
   "metadata": {},
   "outputs": [],
   "source": []
  }
 ],
 "metadata": {
  "kernelspec": {
   "display_name": "Python 3",
   "language": "python",
   "name": "python3"
  },
  "language_info": {
   "codemirror_mode": {
    "name": "ipython",
    "version": 3
   },
   "file_extension": ".py",
   "mimetype": "text/x-python",
   "name": "python",
   "nbconvert_exporter": "python",
   "pygments_lexer": "ipython3",
   "version": "3.7.3"
  }
 },
 "nbformat": 4,
 "nbformat_minor": 2
}
