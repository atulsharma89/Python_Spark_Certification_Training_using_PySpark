{
 "cells": [
  {
   "cell_type": "code",
   "execution_count": null,
   "metadata": {},
   "outputs": [],
   "source": [
    "1. A Robot moves in a Plane starting from the origin point (0,0). The robot can move toward UP, DOWN, LEFT, RIGHT. \n",
    "The trace of Robot movement is as given following:\n",
    "UP 5\n",
    "DOWN 3\n",
    "LEFT 3\n",
    "RIGHT 2\n",
    "\n",
    "The numbers after directions are steps. Write a program to compute the distance current position after sequence \n",
    "of movements.\n",
    "Hint: Use math module."
   ]
  },
  {
   "cell_type": "code",
   "execution_count": 6,
   "metadata": {},
   "outputs": [
    {
     "name": "stdout",
     "output_type": "stream",
     "text": [
      "Enter Steps:     5332\n"
     ]
    },
    {
     "ename": "AttributeError",
     "evalue": "'float' object has no attribute 'split'",
     "output_type": "error",
     "traceback": [
      "\u001b[0;31m---------------------------------------------------------------------------\u001b[0m",
      "\u001b[0;31mAttributeError\u001b[0m                            Traceback (most recent call last)",
      "\u001b[0;32m<ipython-input-6-f6ae8280bfc6>\u001b[0m in \u001b[0;36m<module>\u001b[0;34m()\u001b[0m\n\u001b[1;32m      5\u001b[0m     \u001b[0;32mif\u001b[0m \u001b[0;32mnot\u001b[0m \u001b[0ms\u001b[0m\u001b[0;34m:\u001b[0m\u001b[0;34m\u001b[0m\u001b[0m\n\u001b[1;32m      6\u001b[0m         \u001b[0;32mbreak\u001b[0m\u001b[0;34m\u001b[0m\u001b[0m\n\u001b[0;32m----> 7\u001b[0;31m     \u001b[0mmovement\u001b[0m \u001b[0;34m=\u001b[0m \u001b[0ms\u001b[0m\u001b[0;34m.\u001b[0m\u001b[0msplit\u001b[0m\u001b[0;34m(\u001b[0m\u001b[0;34m\" \"\u001b[0m\u001b[0;34m)\u001b[0m\u001b[0;34m\u001b[0m\u001b[0m\n\u001b[0m\u001b[1;32m      8\u001b[0m     \u001b[0mdirection\u001b[0m \u001b[0;34m=\u001b[0m \u001b[0mmovement\u001b[0m\u001b[0;34m[\u001b[0m\u001b[0;36m0\u001b[0m\u001b[0;34m]\u001b[0m\u001b[0;34m\u001b[0m\u001b[0m\n\u001b[1;32m      9\u001b[0m     \u001b[0msteps\u001b[0m \u001b[0;34m=\u001b[0m \u001b[0mint\u001b[0m\u001b[0;34m(\u001b[0m\u001b[0mmovement\u001b[0m\u001b[0;34m[\u001b[0m\u001b[0;36m1\u001b[0m\u001b[0;34m]\u001b[0m\u001b[0;34m)\u001b[0m\u001b[0;34m\u001b[0m\u001b[0m\n",
      "\u001b[0;31mAttributeError\u001b[0m: 'float' object has no attribute 'split'"
     ]
    }
   ],
   "source": [
    "import math\n",
    "pos = [0,0]\n",
    "while True:\n",
    "    s = float(input(\"Enter Steps:     \"))\n",
    "    if not s:\n",
    "        break\n",
    "    movement = s.split(\" \")\n",
    "    direction = movement[0]\n",
    "    steps = int(movement[1])\n",
    "    if direction==\"UP\":\n",
    "        pos[0]+=steps\n",
    "    elif direction==\"DOWN\":\n",
    "        pos[0]-=steps\n",
    "    elif direction==\"LEFT\":\n",
    "        pos[1]-=steps\n",
    "    elif direction==\"RIGHT\":\n",
    "        pos[1]+=steps\n",
    "    else:\n",
    "        pass\n",
    "print(round(math.sqrt(pos[1]**2+pos[0]**2)))"
   ]
  },
  {
   "cell_type": "code",
   "execution_count": null,
   "metadata": {},
   "outputs": [],
   "source": [
    "2. Data of XYZ company is stored in sorted list. Write a program for searching specific data from that list.\n",
    "\n",
    "Hint: Use if/elif to deal with conditions"
   ]
  },
  {
   "cell_type": "code",
   "execution_count": 7,
   "metadata": {},
   "outputs": [
    {
     "name": "stdout",
     "output_type": "stream",
     "text": [
      "Found\n"
     ]
    }
   ],
   "source": [
    "def search(list,n): \n",
    "  \n",
    "    for i in range(len(list)): \n",
    "        if list[i] == n: \n",
    "            return True\n",
    "    return False\n",
    "  \n",
    "# list which contains both string and numbers. \n",
    "list = [1, 2, 'sachin', 4,'Geeks', 6] \n",
    "  \n",
    "# Driver Code \n",
    "n = 'Geeks'\n",
    "  \n",
    "if search(list, n): \n",
    "    print(\"Found\") \n",
    "else: \n",
    "    print(\"Not Found\") "
   ]
  },
  {
   "cell_type": "code",
   "execution_count": null,
   "metadata": {},
   "outputs": [],
   "source": [
    "3. Weather forecasting organization wants to show is it day or night. So, write a\n",
    "program for such organization to find whether is it dark outside or not. Hint: Use time module."
   ]
  },
  {
   "cell_type": "code",
   "execution_count": 9,
   "metadata": {},
   "outputs": [
    {
     "name": "stdout",
     "output_type": "stream",
     "text": [
      "It is day-time\n"
     ]
    }
   ],
   "source": [
    "import time\n",
    "mytime = time.localtime()\n",
    "if mytime.tm_hour < 6 or mytime.tm_hour > 18:\n",
    "    print ('It is night-time')\n",
    "else:\n",
    "    print ('It is day-time')"
   ]
  },
  {
   "cell_type": "code",
   "execution_count": null,
   "metadata": {},
   "outputs": [],
   "source": [
    "4. Write a program to find distance between two locations when their latitude and longitudes are given.\n",
    "\n",
    "Hint: Use math module."
   ]
  },
  {
   "cell_type": "code",
   "execution_count": 10,
   "metadata": {},
   "outputs": [
    {
     "name": "stdout",
     "output_type": "stream",
     "text": [
      "Input coordinates of two points:\n",
      "Starting latitude: 23.5\n",
      "Ending longitude: 67.5 \n",
      "Starting latitude: 25.5\n",
      "Ending longitude: 69.5\n",
      "The distance is 300.67km.\n"
     ]
    }
   ],
   "source": [
    "from math import radians, sin, cos, acos\n",
    "\n",
    "print(\"Input coordinates of two points:\")\n",
    "slat = radians(float(input(\"Starting latitude: \")))\n",
    "slon = radians(float(input(\"Ending longitude: \")))\n",
    "elat = radians(float(input(\"Starting latitude: \")))\n",
    "elon = radians(float(input(\"Ending longitude: \")))\n",
    "\n",
    "dist = 6371.01 * acos(sin(slat)*sin(elat) + cos(slat)*cos(elat)*cos(slon - elon))\n",
    "print(\"The distance is %.2fkm.\" % dist)\n",
    "\n",
    "#Input coordinates of two points:                                                                              \n",
    "#Starting latitude: 23.5                                                                                       \n",
    "#Ending longitude: 67.5                                                                                        \n",
    "#Starting latitude: 25.5                                                                                       \n",
    "#Ending longitude: 69.5                                                                                        \n",
    "#The distance is 300.67km.  "
   ]
  },
  {
   "cell_type": "code",
   "execution_count": null,
   "metadata": {},
   "outputs": [],
   "source": [
    "5. Design a software for bank system. There should be options like cash withdraw, cash credit and change password. According to user input, the software should provide required output.\n",
    "Hint: Use if else statements and functions."
   ]
  },
  {
   "cell_type": "code",
   "execution_count": 11,
   "metadata": {},
   "outputs": [
    {
     "name": "stdout",
     "output_type": "stream",
     "text": [
      "Hello!!! Welcome to the Deposit & Withdrawal Machine\n",
      "Enter amount to be Deposited: 100\n",
      "\n",
      " Amount Deposited: 100.0\n",
      "Enter amount to be Withdrawn: 20\n",
      "\n",
      " You Withdrew: 20.0\n",
      "\n",
      " Net Available Balance= 80.0\n"
     ]
    }
   ],
   "source": [
    "class Bank_Account: \n",
    "    def __init__(self): \n",
    "        self.balance=0\n",
    "        print(\"Hello!!! Welcome to the Deposit & Withdrawal Machine\") \n",
    "  \n",
    "    def deposit(self): \n",
    "        amount=float(input(\"Enter amount to be Deposited: \")) \n",
    "        self.balance += amount \n",
    "        print(\"\\n Amount Deposited:\",amount) \n",
    "  \n",
    "    def withdraw(self): \n",
    "        amount = float(input(\"Enter amount to be Withdrawn: \")) \n",
    "        if self.balance>=amount: \n",
    "            self.balance-=amount \n",
    "            print(\"\\n You Withdrew:\", amount) \n",
    "        else: \n",
    "            print(\"\\n Insufficient balance  \") \n",
    "  \n",
    "    def display(self): \n",
    "        print(\"\\n Net Available Balance=\",self.balance) \n",
    "  \n",
    "# Driver code \n",
    "   \n",
    "# creating an object of class \n",
    "s = Bank_Account() \n",
    "   \n",
    "# Calling functions with that class object \n",
    "s.deposit() \n",
    "s.withdraw() \n",
    "s.display() "
   ]
  },
  {
   "cell_type": "code",
   "execution_count": null,
   "metadata": {},
   "outputs": [],
   "source": [
    "6. Write a program which will find all such numbers which are divisible by 7 but are not a multiple of 5, \n",
    "between 2000 and 3200 (both included). \n",
    "\n",
    "The numbers obtained should be printed in a comma-separated sequence on a single line."
   ]
  },
  {
   "cell_type": "code",
   "execution_count": 12,
   "metadata": {},
   "outputs": [
    {
     "name": "stdout",
     "output_type": "stream",
     "text": [
      "2002,2009,2016,2023,2037,2044,2051,2058,2072,2079,2086,2093,2107,2114,2121,2128,2142,2149,2156,2163,2177,2184,2191,2198,2212,2219,2226,2233,2247,2254,2261,2268,2282,2289,2296,2303,2317,2324,2331,2338,2352,2359,2366,2373,2387,2394,2401,2408,2422,2429,2436,2443,2457,2464,2471,2478,2492,2499,2506,2513,2527,2534,2541,2548,2562,2569,2576,2583,2597,2604,2611,2618,2632,2639,2646,2653,2667,2674,2681,2688,2702,2709,2716,2723,2737,2744,2751,2758,2772,2779,2786,2793,2807,2814,2821,2828,2842,2849,2856,2863,2877,2884,2891,2898,2912,2919,2926,2933,2947,2954,2961,2968,2982,2989,2996,3003,3017,3024,3031,3038,3052,3059,3066,3073,3087,3094,3101,3108,3122,3129,3136,3143,3157,3164,3171,3178,3192,3199\n"
     ]
    }
   ],
   "source": [
    "nl=[]\n",
    "for x in range(2000, 3201):\n",
    "    if (x%7==0) and (x%5!=0):\n",
    "        nl.append(str(x))\n",
    "print (','.join(nl))"
   ]
  },
  {
   "cell_type": "code",
   "execution_count": null,
   "metadata": {},
   "outputs": [],
   "source": [
    "7. Write a program which can compute the factorial of a given numbers. Use recursion to find it.\n",
    "Hint: Suppose the following input is supplied to the program:"
   ]
  },
  {
   "cell_type": "code",
   "execution_count": 13,
   "metadata": {},
   "outputs": [
    {
     "name": "stdout",
     "output_type": "stream",
     "text": [
      "The factorial of 7 is 5040\n"
     ]
    }
   ],
   "source": [
    "def recur_factorial(n):\n",
    "   if n == 1:\n",
    "       return n\n",
    "   else:\n",
    "       return n*recur_factorial(n-1)\n",
    "num = 7\n",
    "# check if the number is negative\n",
    "if num < 0:\n",
    "   print(\"Sorry, factorial does not exist for negative numbers\")\n",
    "elif num == 0:\n",
    "   print(\"The factorial of 0 is 1\")\n",
    "else:\n",
    "   print(\"The factorial of\", num, \"is\", recur_factorial(num))"
   ]
  },
  {
   "cell_type": "code",
   "execution_count": null,
   "metadata": {},
   "outputs": [],
   "source": [
    "8. Write a program that calculates and prints the value according to the given formula: \n",
    "\n",
    "Q = Square root of [(2 * C * D)/H]\n",
    "\n",
    "Following are the fixed values of C and H: C is 50. H is 30.\n",
    "D is the variable whose values should be input to your program in a comma- separated sequence.\n",
    "Example:\n",
    "Let us assume the following comma separated input sequence is given to the program:\n",
    "100,150,180\n",
    "The output of the program should be:\n",
    "18,22,24"
   ]
  },
  {
   "cell_type": "code",
   "execution_count": 17,
   "metadata": {},
   "outputs": [
    {
     "name": "stdout",
     "output_type": "stream",
     "text": [
      "enter any values100,150,180\n",
      "18.257418583505537\n",
      "22.360679774997898\n",
      "24.49489742783178\n"
     ]
    }
   ],
   "source": [
    "import math\n",
    "c=50\n",
    "h=30\n",
    "d=input(\"enter any values\").split(',')\n",
    "for i in d:\n",
    "  sq=math.sqrt((2*c*float(i))/h)\n",
    "  print(sq)"
   ]
  },
  {
   "cell_type": "code",
   "execution_count": null,
   "metadata": {},
   "outputs": [],
   "source": [
    "9. Write a program which takes 2 digits, X,Y as input and generates a 2-dimensional array. \n",
    "The element value in the i-th row and j-th column of the array should be i*j. Note: i=0,1.., X-1; j=0,1,¡-Y-1.\n",
    "Example:\n",
    "Suppose the following inputs are given to the program: 3,5\n",
    "Then, the output of the program should be:\n",
    "[[0, 0, 0, 0, 0], [0, 1, 2, 3, 4], [0, 2, 4, 6, 8]]"
   ]
  },
  {
   "cell_type": "code",
   "execution_count": 18,
   "metadata": {},
   "outputs": [
    {
     "name": "stdout",
     "output_type": "stream",
     "text": [
      "Input number of rows: 3\n",
      "Input number of columns: 5\n",
      "[[0, 0, 0, 0, 0], [0, 1, 2, 3, 4], [0, 2, 4, 6, 8]]\n"
     ]
    }
   ],
   "source": [
    "row_num = int(input(\"Input number of rows: \"))\n",
    "col_num = int(input(\"Input number of columns: \"))\n",
    "multi_list = [[0 for col in range(col_num)] for row in range(row_num)]\n",
    "\n",
    "for row in range(row_num):\n",
    "    for col in range(col_num):\n",
    "        multi_list[row][col]= row*col\n",
    "\n",
    "print(multi_list)\n"
   ]
  },
  {
   "cell_type": "code",
   "execution_count": null,
   "metadata": {},
   "outputs": [],
   "source": [
    "10.Write a program that accepts a comma separated sequence of words as input \n",
    "and prints the words in a comma-separated sequence after sorting them alphabetically.\n",
    "Suppose the following input is supplied to the program: without,hello,bag,world\n",
    "Then, the output should be:\n",
    "bag,hello,without,world\n"
   ]
  },
  {
   "cell_type": "code",
   "execution_count": 27,
   "metadata": {},
   "outputs": [
    {
     "name": "stdout",
     "output_type": "stream",
     "text": [
      "Input comma separated sequence of wordswithout,hello,bag,world\n",
      "['bag', 'hello', 'without', 'world']\n"
     ]
    }
   ],
   "source": [
    "items = input(\"Input comma separated sequence of words\")\n",
    "words = [word for word in items.split(\",\")]\n",
    "print(sorted(words))\n",
    "#print(\",\".join(sorted(list(set(words)))))"
   ]
  },
  {
   "cell_type": "code",
   "execution_count": null,
   "metadata": {},
   "outputs": [],
   "source": [
    "11.Write a program that accepts sequence of lines as input and prints the lines after making all characters \n",
    "in the sentence capitalized.\n",
    "Suppose the following input is supplied to the program:\n",
    "Hello world\n",
    "Practice makes perfect Then, the output should be: HELLO WORLD\n",
    "PRACTICE MAKES PERFECT"
   ]
  },
  {
   "cell_type": "code",
   "execution_count": 43,
   "metadata": {},
   "outputs": [
    {
     "name": "stdout",
     "output_type": "stream",
     "text": [
      "Hello World\n",
      "World make me smile\n",
      "\n",
      "HELLO WORLD\n",
      "WORLD MAKE ME SMILE\n"
     ]
    }
   ],
   "source": [
    "lines = []\n",
    "while True:\n",
    "    l = input()\n",
    "    if l:\n",
    "        lines.append(l.upper())\n",
    "    else:\n",
    "        break;\n",
    "\n",
    "for l in lines:\n",
    "    print(l)"
   ]
  },
  {
   "cell_type": "code",
   "execution_count": null,
   "metadata": {},
   "outputs": [],
   "source": [
    "12.Write a program that accepts a sequence of whitespace separated words as input and prints the words after removing all duplicate words and sorting them alphanumerically.\n",
    "Suppose the following input is supplied to the program:\n",
    "hello world and practice makes perfect and hello world again Then, the output should be:\n",
    "again and hello makes perfect practice world"
   ]
  },
  {
   "cell_type": "code",
   "execution_count": 44,
   "metadata": {},
   "outputs": [
    {
     "name": "stdout",
     "output_type": "stream",
     "text": [
      "Type in: Hello Hello How are you\n",
      "Hello How are you\n"
     ]
    }
   ],
   "source": [
    "phrase = input(\"Type in: \")\n",
    "phrase_splited = phrase.split(' ')\n",
    "\n",
    "word_list = []\n",
    "for i in phrase_splited:\n",
    "    if i not in word_list:\n",
    "        word_list.append(i)\n",
    "    else:\n",
    "        continue\n",
    "word_list.sort()\n",
    "print((' ').join(word_list))"
   ]
  },
  {
   "cell_type": "code",
   "execution_count": null,
   "metadata": {},
   "outputs": [],
   "source": [
    "13.Write a program which accepts a sequence of comma separated 4 digit binary numbers as its input and then check \n",
    "whether they are divisible by 5 or not. The numbers that are divisible by 5 are to be printed in \n",
    "a comma separated sequence.\n",
    "\n",
    "Example: 0100,0011,1010,1001 Then the output should be: 1010\n"
   ]
  },
  {
   "cell_type": "code",
   "execution_count": 45,
   "metadata": {},
   "outputs": [
    {
     "name": "stdout",
     "output_type": "stream",
     "text": [
      "0100,0011,1010,1001\n",
      "1010\n"
     ]
    }
   ],
   "source": [
    "items = []\n",
    "num = [x for x in input().split(',')]\n",
    "for p in num:\n",
    "    x = int(p, 2)\n",
    "    if not x%5:\n",
    "        items.append(p)\n",
    "print(','.join(items))\n"
   ]
  },
  {
   "cell_type": "code",
   "execution_count": null,
   "metadata": {},
   "outputs": [],
   "source": [
    "14.Write a program that accepts a sentence and calculate the number of upper case letters and lower case letters.\n",
    "\n",
    "Suppose the following input is supplied to the program:\n",
    "Hello world!\n",
    "Then, the output should be: UPPER CASE 1\n",
    "LOWER CASE 9"
   ]
  },
  {
   "cell_type": "code",
   "execution_count": 46,
   "metadata": {},
   "outputs": [
    {
     "name": "stdout",
     "output_type": "stream",
     "text": [
      "Original String :  The quick Brown Fox\n",
      "No. of Upper case characters :  3\n",
      "No. of Lower case Characters :  13\n"
     ]
    }
   ],
   "source": [
    "def string_test(s):\n",
    "    d={\"UPPER_CASE\":0, \"LOWER_CASE\":0}\n",
    "    for c in s:\n",
    "        if c.isupper():\n",
    "           d[\"UPPER_CASE\"]+=1\n",
    "        elif c.islower():\n",
    "           d[\"LOWER_CASE\"]+=1\n",
    "        else:\n",
    "           pass\n",
    "    print (\"Original String : \", s)\n",
    "    print (\"No. of Upper case characters : \", d[\"UPPER_CASE\"])\n",
    "    print (\"No. of Lower case Characters : \", d[\"LOWER_CASE\"])\n",
    "\n",
    "string_test('The quick Brown Fox')"
   ]
  },
  {
   "cell_type": "code",
   "execution_count": null,
   "metadata": {},
   "outputs": [],
   "source": [
    "15. Give example of fsum and sum function of math library."
   ]
  },
  {
   "cell_type": "code",
   "execution_count": 47,
   "metadata": {},
   "outputs": [
    {
     "name": "stdout",
     "output_type": "stream",
     "text": [
      "45.0\n",
      "11.0\n",
      "7.99\n"
     ]
    }
   ],
   "source": [
    "import math \n",
    "  \n",
    "# range(10) \n",
    "print(math.fsum(range(10))) \n",
    "  \n",
    "# Integer list \n",
    "arr = [1, 4, 6] \n",
    "print(math.fsum(arr)) \n",
    "  \n",
    "# Floating point list \n",
    "arr = [2.5, 2.4, 3.09] \n",
    "print(math.fsum(arr)) "
   ]
  },
  {
   "cell_type": "code",
   "execution_count": null,
   "metadata": {},
   "outputs": [],
   "source": []
  }
 ],
 "metadata": {
  "kernelspec": {
   "display_name": "Python 3",
   "language": "python",
   "name": "python3"
  },
  "language_info": {
   "codemirror_mode": {
    "name": "ipython",
    "version": 3
   },
   "file_extension": ".py",
   "mimetype": "text/x-python",
   "name": "python",
   "nbconvert_exporter": "python",
   "pygments_lexer": "ipython3",
   "version": "3.7.3"
  }
 },
 "nbformat": 4,
 "nbformat_minor": 2
}
