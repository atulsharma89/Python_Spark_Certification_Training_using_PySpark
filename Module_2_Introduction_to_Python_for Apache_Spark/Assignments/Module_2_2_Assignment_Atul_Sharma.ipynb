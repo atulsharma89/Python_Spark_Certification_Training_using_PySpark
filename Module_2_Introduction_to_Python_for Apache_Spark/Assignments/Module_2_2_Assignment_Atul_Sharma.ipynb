{
 "cells": [
  {
   "cell_type": "code",
   "execution_count": null,
   "metadata": {},
   "outputs": [],
   "source": [
    "Business challenge/requirement\n",
    "\n",
    "LifeTel Telecom is the latest entrant in the highly competitive Telecom market of\n",
    "Singapore. It issues SIM to the verified users. Till now verification was manual\n",
    "through the photocopy of approved id card document. However, government has\n",
    "recently introduced Social ID called Reference ID which is mapped to fingerprint of\n",
    "user. LifeTel should now verify user against the fingerprint and Reference ID"
   ]
  },
  {
   "cell_type": "code",
   "execution_count": null,
   "metadata": {},
   "outputs": [],
   "source": [
    "Key issues\n",
    "Build a system where when user enters Reference ID it is encrypted, so that hackers\n",
    "cannot view the mapping of Reference ID and finger print"
   ]
  },
  {
   "cell_type": "code",
   "execution_count": null,
   "metadata": {},
   "outputs": [],
   "source": [
    "Approach to Solve\n",
    "You have to use fundamentals of Python taught in module 2\n",
    "1. Read the input from command line – Reference ID\n",
    "2. Check for validity – it should be 12 digits and allows on number and alphabet\n",
    "3. Encrypt the Reference ID and print it for reference"
   ]
  },
  {
   "cell_type": "code",
   "execution_count": null,
   "metadata": {},
   "outputs": [],
   "source": [
    "Enhancements for code\n",
    "You can try these enhancements in code\n",
    "1. Allow some special characters in ReferenceID\n",
    "2. Give the option for decryption to user "
   ]
  },
  {
   "cell_type": "code",
   "execution_count": 18,
   "metadata": {},
   "outputs": [
    {
     "name": "stdout",
     "output_type": "stream",
     "text": [
      "Input your Reference ID Kkailash@333333\n"
     ]
    }
   ],
   "source": [
    "import re\n",
    "p= input(\"Input your Reference ID \")\n",
    "x = True\n",
    "while x:  \n",
    "    if (len(p)<12 or len(p)>100):\n",
    "        break\n",
    "    elif not re.search(\"[a-z]\",p):\n",
    "        break\n",
    "    elif not re.search(\"[0-9]\",p):\n",
    "        break\n",
    "    elif not re.search(\"[A-Z]\",p):\n",
    "        break\n",
    "    elif not re.search(\"[$#@]\",p):\n",
    "        break\n",
    "    elif re.search(\"\\s\",p):\n",
    "        break\n",
    "    else:\n",
    "        \n",
    "        x=False\n",
    "        break\n",
    "        print(\"Encrypted Reference ID :\" +p[::-1])\n",
    "        # encoding string  \n",
    "         \n",
    "  \n",
    "        # printing the encoded string \n",
    "        #print \"The encoded string in base64 format is : \", \n",
    "        #print str_enc \n",
    "  \n",
    "        # printing the original decoded string  \n",
    "        \n",
    "\n",
    "if x:\n",
    "    print(\"Not a Valid Reference ID\")\n",
    "\n",
    "    \n",
    "#string = string[::-1]"
   ]
  },
  {
   "cell_type": "code",
   "execution_count": 16,
   "metadata": {},
   "outputs": [
    {
     "ename": "SyntaxError",
     "evalue": "invalid syntax (<ipython-input-16-e5e600162a00>, line 16)",
     "output_type": "error",
     "traceback": [
      "\u001b[0;36m  File \u001b[0;32m\"<ipython-input-16-e5e600162a00>\"\u001b[0;36m, line \u001b[0;32m16\u001b[0m\n\u001b[0;31m    print()\"Password entered : \", + pass_wrong)\u001b[0m\n\u001b[0m                               ^\u001b[0m\n\u001b[0;31mSyntaxError\u001b[0m\u001b[0;31m:\u001b[0m invalid syntax\n"
     ]
    }
   ],
   "source": [
    "user = \"geeksforgeeks\"\n",
    "passw = \"i_lv_coding\"\n",
    "  \n",
    "# converting password to base64 encoding \n",
    "passw = passw.encode('base64', 'strict') \n",
    "  \n",
    "# input from user  \n",
    "# user_login = raw_input() \n",
    "# pass_login = raw_input() \n",
    "  \n",
    "user_login = \"geeksforgeeks\"\n",
    "  \n",
    "# wrongly entered password \n",
    "pass_wrong = \"geeksforgeeks\"\n",
    "  \n",
    "print()\"Password entered : \", + pass_wrong)\n",
    "  \n",
    "if(pass_wrong == passw.decode('base64', 'strict')): \n",
    "    print \"You are logged in !!\"\n",
    "else :  print \"Wrong Password !!\"\n",
    "  \n",
    "print('\\r')\n",
    "  \n",
    "# correctly entered password \n",
    "pass_right = \"i_lv_coding\"\n",
    "  \n",
    "print()\"Password entered : \", + pass_right)\n",
    "  \n",
    "if(pass_right == passw.decode('base64', 'strict')): \n",
    "    print \"You are logged in !!\"\n",
    "else :  print(\"Wrong Password !!\")"
   ]
  },
  {
   "cell_type": "code",
   "execution_count": null,
   "metadata": {},
   "outputs": [],
   "source": []
  }
 ],
 "metadata": {
  "kernelspec": {
   "display_name": "Python 3",
   "language": "python",
   "name": "python3"
  },
  "language_info": {
   "codemirror_mode": {
    "name": "ipython",
    "version": 3
   },
   "file_extension": ".py",
   "mimetype": "text/x-python",
   "name": "python",
   "nbconvert_exporter": "python",
   "pygments_lexer": "ipython3",
   "version": "3.7.3"
  }
 },
 "nbformat": 4,
 "nbformat_minor": 2
}
