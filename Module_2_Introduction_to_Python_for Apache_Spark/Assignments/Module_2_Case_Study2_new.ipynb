{
 "cells": [
  {
   "cell_type": "code",
   "execution_count": null,
   "metadata": {},
   "outputs": [],
   "source": [
    "Domain – Telecom focus – Optimization\n",
    "\n",
    "Business challenge/requirement\n",
    "\n",
    "LifeTel Telecom is the latest entrant in the highly competitive Telecom market of Singapore.\n",
    "It issues SIM to the verified users. Till now verification was manual through the photocopy\n",
    "of approved id card document. However, government has recently introduced Social ID \n",
    "called Reference ID which is mapped to fingerprint of user. \n",
    "LifeTel should now verify user against the fingerprint and Reference ID\n",
    "\n",
    "Key issues\n",
    "\n",
    "Build a system where when user enters Reference ID it is encrypted, so that hackers \n",
    "cannot view the mapping of Reference ID and finger print\n",
    "\n",
    "Considerations\n",
    "\n",
    "System should be secure\n",
    "\n",
    "Data volume - NA\n",
    "\n",
    "Additional information - NA\n",
    "\n",
    "Business benefits\n",
    "\n",
    "Company will be able to quickly issue SIM to user and expected gain in volume \n",
    "is approximately 10 times as the manual process of verification is replaced \n",
    "with secure automated system\n",
    "\n",
    "Approach to Solve\n",
    "You have to use fundamentals of Python taught in module 2\n",
    "1. Read the input from command line – Reference ID\n",
    "2. Check for validity – it should be 12 digits and allows on number and alphabet"
   ]
  },
  {
   "cell_type": "code",
   "execution_count": 2,
   "metadata": {},
   "outputs": [
    {
     "name": "stdout",
     "output_type": "stream",
     "text": [
      "Input your Reference ID Kkailash@33333333333333\n",
      "Valid Reference ID :Kkailash@33333333333333\n",
      "Encrypted Reference ID :33333333333333@hsaliakK\n"
     ]
    }
   ],
   "source": [
    "#solution 1\n",
    "import re\n",
    "p= input(\"Input your Reference ID \")\n",
    "x = True\n",
    "while x:  \n",
    "    if (len(p)<12 or len(p)>100):\n",
    "        break\n",
    "    elif not re.search(\"[a-z]\",p):\n",
    "        break\n",
    "    elif not re.search(\"[0-9]\",p):\n",
    "        break\n",
    "    elif not re.search(\"[A-Z]\",p):\n",
    "        break\n",
    "    elif not re.search(\"[$#@]\",p):\n",
    "        break\n",
    "    elif re.search(\"\\s\",p):\n",
    "        break\n",
    "    else:\n",
    "        print(\"Valid Reference ID :\" +p)\n",
    "        print(\"Encrypted Reference ID :\" +p[::-1])\n",
    "        x=False\n",
    "        break\n",
    "\n",
    "if x:\n",
    "    print(\"Not a Valid Reference ID\")\n",
    "\n",
    "    \n",
    "#string = string[::-1]"
   ]
  },
  {
   "cell_type": "code",
   "execution_count": 21,
   "metadata": {},
   "outputs": [
    {
     "name": "stdout",
     "output_type": "stream",
     "text": [
      "Input your Reference ID Kkailash@3333333333333\n",
      "Valid Reference ID :Kkailash@3333333333333\n",
      "Encrypted Reference ID : b'S2thaWxhc2hAMzMzMzMzMzMzMzMzMw=='\n",
      "Decrypted Reference ID : Kkailash@3333333333333\n"
     ]
    }
   ],
   "source": [
    "#solution 2\n",
    "\n",
    "import re\n",
    "import base64\n",
    "p= input(\"Input your Reference ID \")\n",
    "x = True\n",
    "while x:  \n",
    "    if (len(p)<12 or len(p)>100):\n",
    "        break\n",
    "    elif not re.search(\"[a-z]\",p):\n",
    "        break\n",
    "    elif not re.search(\"[0-9]\",p):\n",
    "        break\n",
    "    elif not re.search(\"[A-Z]\",p):\n",
    "        break\n",
    "    elif not re.search(\"[$#@]\",p):\n",
    "        break\n",
    "    elif re.search(\"\\s\",p):\n",
    "        break\n",
    "    else:\n",
    "        print(\"Valid Reference ID :\" +p)\n",
    "        #print(\"Encrypted Reference ID :\" +p[::-1])\n",
    "        p2=base64.b64encode(bytes(p, 'utf-8'))\n",
    "        print(\"Encrypted Reference ID :\",p2)\n",
    "        p3=base64.b64decode(p2).decode()\n",
    "        print(\"Decrypted Reference ID :\",p3)\n",
    "        x=False\n",
    "        break\n",
    "\n",
    "if x:\n",
    "    print(\"Not a Valid Reference ID\")\n",
    "\n",
    "\n"
   ]
  },
  {
   "cell_type": "code",
   "execution_count": 20,
   "metadata": {},
   "outputs": [
    {
     "data": {
      "text/plain": [
       "\"\\nimport base64\\n#base64.b64encode(bytes('your string', 'utf-8'))\\np1='Kkailash@27'\\np2=base64.b64encode(bytes(p1, 'utf-8'))\\nprint('encoded', p2)\\n\\n#p3=base64.b64decode(p2)\\n\\n#print('decoded', p3)\\nprint(base64.b64decode(p2).decode())\\n\\n\""
      ]
     },
     "execution_count": 20,
     "metadata": {},
     "output_type": "execute_result"
    }
   ],
   "source": [
    "'''\n",
    "import base64\n",
    "#base64.b64encode(bytes('your string', 'utf-8'))\n",
    "p1='Kkailash@27'\n",
    "p2=base64.b64encode(bytes(p1, 'utf-8'))\n",
    "print('encoded', p2)\n",
    "\n",
    "#p3=base64.b64decode(p2)\n",
    "\n",
    "#print('decoded', p3)\n",
    "print(base64.b64decode(p2).decode())\n",
    "\n",
    "'''"
   ]
  },
  {
   "cell_type": "code",
   "execution_count": null,
   "metadata": {},
   "outputs": [],
   "source": []
  }
 ],
 "metadata": {
  "kernelspec": {
   "display_name": "Python 3",
   "language": "python",
   "name": "python3"
  },
  "language_info": {
   "codemirror_mode": {
    "name": "ipython",
    "version": 3
   },
   "file_extension": ".py",
   "mimetype": "text/x-python",
   "name": "python",
   "nbconvert_exporter": "python",
   "pygments_lexer": "ipython3",
   "version": "3.7.3"
  }
 },
 "nbformat": 4,
 "nbformat_minor": 4
}
