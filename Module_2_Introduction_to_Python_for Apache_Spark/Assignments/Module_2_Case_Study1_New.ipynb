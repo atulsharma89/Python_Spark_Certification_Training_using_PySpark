{
 "cells": [
  {
   "cell_type": "code",
   "execution_count": 1,
   "metadata": {},
   "outputs": [
    {
     "name": "stdout",
     "output_type": "stream",
     "text": [
      "4\n"
     ]
    }
   ],
   "source": [
    "#1. What is the output of the following code?\n",
    "\n",
    "nums = set([1,1,2,3,3,3,4,4])\n",
    "\n",
    "print(len(nums))"
   ]
  },
  {
   "cell_type": "code",
   "execution_count": 2,
   "metadata": {},
   "outputs": [
    {
     "name": "stdout",
     "output_type": "stream",
     "text": [
      "['john', 'peter']\n"
     ]
    }
   ],
   "source": [
    "#What will be the output?\n",
    "\n",
    "d = {\"john\":40, \"peter\":45} \n",
    "print(list(d.keys()))"
   ]
  },
  {
   "cell_type": "code",
   "execution_count": 42,
   "metadata": {},
   "outputs": [
    {
     "name": "stdout",
     "output_type": "stream",
     "text": [
      "Input your passwordW3r@100a\n",
      "Valid Password\n"
     ]
    }
   ],
   "source": [
    "#3. A website requires a user to input username and password to register. \n",
    "#Write a program to check the validity of password given by user. \n",
    "#Following are the criteria for checking password:\n",
    "\n",
    "#1. At least 1 letter between [a-z]\n",
    "#2. At least 1 number between [0-9]\n",
    "#1. At least 1 letter between [A-Z]\n",
    "#3. At least 1 character from [$#@]\n",
    "#4. Minimum length of transaction password:6 \n",
    "#5. Maximum length of transaction password: 12\n",
    "\n",
    "import re\n",
    "p= input(\"Input your password\")\n",
    "x = True\n",
    "while x:  \n",
    "    if (len(p)<6 or len(p)>12):\n",
    "        break\n",
    "    elif not re.search(\"[a-z]\",p):\n",
    "        break\n",
    "    elif not re.search(\"[0-9]\",p):\n",
    "        break\n",
    "    elif not re.search(\"[A-Z]\",p):\n",
    "        break\n",
    "    elif not re.search(\"[$#@]\",p):\n",
    "        break\n",
    "    elif re.search(\"\\s\",p):\n",
    "        break\n",
    "    else:\n",
    "        print(\"Valid Password\")\n",
    "        x=False\n",
    "        break\n",
    "\n",
    "if x:\n",
    "    print(\"Not a Valid Password\")\n"
   ]
  },
  {
   "cell_type": "code",
   "execution_count": null,
   "metadata": {},
   "outputs": [],
   "source": []
  },
  {
   "cell_type": "code",
   "execution_count": 7,
   "metadata": {},
   "outputs": [
    {
     "name": "stdout",
     "output_type": "stream",
     "text": [
      "0 4\n",
      "1 7\n",
      "2 3\n",
      "3 2\n",
      "4 5\n",
      "5 9\n"
     ]
    }
   ],
   "source": [
    "#4. Write a for loop that prints all elements of a list and their position in the list.\n",
    "#a = [4,7,3,2,5,9]\n",
    "#Hint: Use Loop to iterate through list elements.\n",
    "\n",
    "a = [4,7,3,2,5,9]\n",
    "for i in a:\n",
    "    print(a.index(i),i)"
   ]
  },
  {
   "cell_type": "code",
   "execution_count": 8,
   "metadata": {},
   "outputs": [
    {
     "name": "stdout",
     "output_type": "stream",
     "text": [
      "Please enter your string H1e2l3l4o5w6o7r8l9d\n",
      "Helloworld\n"
     ]
    }
   ],
   "source": [
    "#5. Please write a program which accepts a string from console and print the characters that have even indexes.\n",
    "#Example: If the following string is given as input to the program: H1e2l3l4o5w6o7r8l9d\n",
    "\n",
    "#Then, the output of the program should be:\n",
    "#Helloworld\n",
    "\n",
    "no_digits = []\n",
    "a = input(\"Please enter your string \")\n",
    "\n",
    "for i in a:\n",
    "    if not i.isdigit():\n",
    "        no_digits.append(i)\n",
    "\n",
    "result = ''.join(no_digits)\n",
    "print(result)"
   ]
  },
  {
   "cell_type": "code",
   "execution_count": 9,
   "metadata": {},
   "outputs": [
    {
     "name": "stdout",
     "output_type": "stream",
     "text": [
      "enter your stringrise to vote sir\n",
      "ris etov ot esir\n"
     ]
    }
   ],
   "source": [
    "#6. Please write a program which accepts a string from console and print \n",
    "#it in reverse order.\n",
    "#Example: If the following string is given as input to the program:\n",
    "#rise to vote sir\n",
    "#Then, the output of the program should be:\n",
    "#ris etov ot esir\n",
    "\n",
    "a=input(\"enter your string\")\n",
    "\n",
    "print(a[::-1])"
   ]
  },
  {
   "cell_type": "code",
   "execution_count": 13,
   "metadata": {},
   "outputs": [
    {
     "name": "stdout",
     "output_type": "stream",
     "text": [
      "Enter your string abcdefgabc\n",
      "Count of all characters in GeeksforGeeks is :\n",
      " {'a': 2, 'b': 2, 'c': 2, 'd': 1, 'e': 1, 'f': 1, 'g': 1}\n"
     ]
    }
   ],
   "source": [
    "#7.Please write a program which count and print the numbers of each character in a string \n",
    "#input by console.\n",
    "#Example: If the following string is given as input to the program: abcdefgabc\n",
    "#Then, the output of the program should be:\n",
    "#a,2 c,2 b,2 e,1 d,1 g,1 f,1\n",
    "\n",
    "a =input(\"Enter your string \")\n",
    "\n",
    "all_freq = {}\n",
    "  \n",
    "for i in a: \n",
    "    if i in all_freq: \n",
    "        all_freq[i] += 1\n",
    "    else: \n",
    "        all_freq[i] = 1\n",
    "\n",
    "print (\"Count of all characters in GeeksforGeeks is :\\n \"\n",
    "                                        +  str(all_freq))\n"
   ]
  },
  {
   "cell_type": "code",
   "execution_count": 14,
   "metadata": {},
   "outputs": [
    {
     "name": "stdout",
     "output_type": "stream",
     "text": [
      "[35]\n"
     ]
    }
   ],
   "source": [
    "#8. With two given lists [1,3,6,78,35,55] and [12,24,35,24,88,120,155], \n",
    "#write a program to make a list whose elements are intersection of the above given lists.\n",
    "\n",
    "a=[1,3,6,78,35,55]\n",
    "b=[12,24,35,24,88,120,155]\n",
    "\n",
    "c=[]\n",
    "\n",
    "for i in a:\n",
    "    if i in b:\n",
    "        c.append(i)\n",
    "print(c)"
   ]
  },
  {
   "cell_type": "code",
   "execution_count": 17,
   "metadata": {},
   "outputs": [
    {
     "name": "stdout",
     "output_type": "stream",
     "text": [
      "[12, 24, 35, 88, 120, 155]\n"
     ]
    }
   ],
   "source": [
    "#9. With a given list [12,24,35,24,88,120,155,88,120,155], \n",
    "#write a program to print this list after removing all duplicate values \n",
    "#with original order reserved.\n",
    "\n",
    "#a=[12,24,35,24,88,120,155,88,120,155]\n",
    "\n",
    "#b=set(a)\n",
    "\n",
    "#print(sorted(b))\n",
    "\n",
    "def dup(duplicate): \n",
    "    final_list = [] \n",
    "    for num in duplicate: \n",
    "        if num not in final_list: \n",
    "            final_list.append(num) \n",
    "    return final_list \n",
    "      \n",
    "# Driver Code \n",
    "a = [12,24,35,24,88,120,155,88,120,155] \n",
    "print(dup(a))\n",
    "\n",
    "\n"
   ]
  },
  {
   "cell_type": "code",
   "execution_count": 24,
   "metadata": {},
   "outputs": [
    {
     "name": "stdout",
     "output_type": "stream",
     "text": [
      "[12, 35, 88, 120, 155]\n"
     ]
    }
   ],
   "source": [
    "#10.By using list comprehension, please write a program to print \n",
    "#the list after removing the value 24 in [12,24,35,24,88,120,155].\n",
    "\n",
    "a=[12,24,35,24,88,120,155]\n",
    "\n",
    "\n",
    "#new_list = [a.remove('24') for i in a]\n",
    "b = [24]\n",
    "\n",
    "b = [item for item in a if item not in b]\n",
    "\n",
    "print(b)\n",
    "\n",
    "#b = [item for item in a if item!=24]\n",
    "\n",
    "#print(b)"
   ]
  },
  {
   "cell_type": "code",
   "execution_count": 41,
   "metadata": {},
   "outputs": [
    {
     "name": "stdout",
     "output_type": "stream",
     "text": [
      "[24, 35, 70, 155]\n"
     ]
    }
   ],
   "source": [
    "#11.By using list comprehension, please write a program to print the \n",
    "#list after removing the 0th,4th,5th numbers in [12,24,35,70,88,120,155].\n",
    "\n",
    "#a=[12,24,35,70,88,120,155]\n",
    "\n",
    "#c=[0,4,5]\n",
    "\n",
    "#b=[item for item in a if a.index[item] not in c]\n",
    "#b= [var for var in a if a[a.index(var)] != 0]\n",
    "#print(b)\n",
    "\n",
    "a=[12,24,35,70,88,120,155]\n",
    "\n",
    "b = [x for (i,x) in enumerate(a) if i not in (0,4,5)]\n",
    "\n",
    "print(b)"
   ]
  },
  {
   "cell_type": "code",
   "execution_count": 35,
   "metadata": {},
   "outputs": [
    {
     "name": "stdout",
     "output_type": "stream",
     "text": [
      "[35, 70, 120, 155]\n"
     ]
    }
   ],
   "source": [
    "#12.By using list comprehension, please write a program to print the list \n",
    "#after removing delete numbers which are divisible by 5 and 7 in [12,24,35,70,88,120,155].\n",
    "\n",
    "a=[12,24,35,70,88,120,155]\n",
    "\n",
    "b=[item for item in a if (item%5==0 & item%7==0)]\n",
    "\n",
    "print(b)"
   ]
  },
  {
   "cell_type": "code",
   "execution_count": 38,
   "metadata": {},
   "outputs": [
    {
     "name": "stdout",
     "output_type": "stream",
     "text": [
      "[5, 10, 15, 20, 25, 30]\n"
     ]
    }
   ],
   "source": [
    "#Please write a program to randomly generate a list with 5 numbers, \n",
    "#which are divisible by 5 and 7 , \n",
    "#between 1 and 1000 inclusive.\n",
    "\n",
    "a = list(range(1,1001))\n",
    "\n",
    "b=[item for item in a if (item%5==0 & item%7==0)]\n",
    "\n",
    "b=b[0:6]\n",
    "\n",
    "print(b)\n",
    "\n",
    "\n",
    "'''\n",
    "nl=[]\n",
    "for x in range(1500, 2701):\n",
    "    if (x%7==0) and (x%5==0):\n",
    "        nl.append(str(x))\n",
    "print (','.join(nl))\n",
    "'''"
   ]
  },
  {
   "cell_type": "code",
   "execution_count": 39,
   "metadata": {},
   "outputs": [
    {
     "name": "stdout",
     "output_type": "stream",
     "text": [
      "Enter a number: 5\n",
      "computed value :  3.55\n"
     ]
    }
   ],
   "source": [
    "#Write a program to compute 1/2+2/3+3/4+...+n/n+1 with a given n input by console (n>0).\n",
    "\n",
    "num = int(input(\"Enter a number: \"))\n",
    "newnum = 0\n",
    "\n",
    "for each in range(1,num+1):\n",
    "    newnum = newnum+(each/(each+1))\n",
    "\n",
    "print(\"computed value : \",format(round(newnum,2)))"
   ]
  },
  {
   "cell_type": "code",
   "execution_count": null,
   "metadata": {},
   "outputs": [],
   "source": []
  }
 ],
 "metadata": {
  "kernelspec": {
   "display_name": "Python 3",
   "language": "python",
   "name": "python3"
  },
  "language_info": {
   "codemirror_mode": {
    "name": "ipython",
    "version": 3
   },
   "file_extension": ".py",
   "mimetype": "text/x-python",
   "name": "python",
   "nbconvert_exporter": "python",
   "pygments_lexer": "ipython3",
   "version": "3.7.3"
  }
 },
 "nbformat": 4,
 "nbformat_minor": 4
}
