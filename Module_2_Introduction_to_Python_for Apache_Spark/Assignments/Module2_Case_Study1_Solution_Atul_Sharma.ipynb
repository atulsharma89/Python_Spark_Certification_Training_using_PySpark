{
 "cells": [
  {
   "cell_type": "code",
   "execution_count": null,
   "metadata": {},
   "outputs": [],
   "source": [
    "1.Write a program which will find factors of given number and find whether the factor is even or odd.\n",
    "Hint: Use Loop with if-else statements"
   ]
  },
  {
   "cell_type": "code",
   "execution_count": 7,
   "metadata": {},
   "outputs": [
    {
     "name": "stdout",
     "output_type": "stream",
     "text": [
      "The Even factors of 320 are:\n",
      "2\n",
      "4\n",
      "8\n",
      "10\n",
      "16\n",
      "20\n",
      "32\n",
      "40\n",
      "64\n",
      "80\n",
      "160\n",
      "320\n",
      "The Odd factors of 320 are:\n",
      "1\n",
      "5\n"
     ]
    }
   ],
   "source": [
    "def print_factors(x):\n",
    "    print(\"The Even factors of\",x,\"are:\")\n",
    "    for i in range(1, x + 1):\n",
    "        if x % i == 0 and i%2 == 0:\n",
    "            print(i)\n",
    "    print(\"The Odd factors of\",x,\"are:\")\n",
    "    for i in range(1, x + 1):\n",
    "        if x % i == 0 and i%2 != 0:\n",
    "            print(i)\n",
    "num = 320\n",
    "print_factors(num)"
   ]
  },
  {
   "cell_type": "code",
   "execution_count": null,
   "metadata": {},
   "outputs": [],
   "source": [
    "2. Write a code which accepts a sequence of words as input \n",
    "and prints the words in a sequence after sorting them alphabetically. \n",
    "\n",
    "Hint: In case of input data being supplied to the question, \n",
    "it should be assumed to be a console input"
   ]
  },
  {
   "cell_type": "code",
   "execution_count": 16,
   "metadata": {},
   "outputs": [
    {
     "name": "stdout",
     "output_type": "stream",
     "text": [
      "Input comma separated sequence of words hello,hi,how,are,u\n",
      "are,hello,hi,how,u\n"
     ]
    }
   ],
   "source": [
    "items = input(\"Input comma separated sequence of words \")\n",
    "words = [word for word in items.split(\",\")]\n",
    "print(\",\".join(sorted(list(set(words)))))"
   ]
  },
  {
   "cell_type": "code",
   "execution_count": null,
   "metadata": {},
   "outputs": [],
   "source": [
    "3. Write a program, which will find all the numbers between 1000 and 3000 (both included) such that each \n",
    "digit of a number is an even number. The numbers obtained should be printed in a comma separated \n",
    "sequence on a single line\n"
   ]
  },
  {
   "cell_type": "code",
   "execution_count": 13,
   "metadata": {},
   "outputs": [
    {
     "name": "stdout",
     "output_type": "stream",
     "text": [
      "2000,2002,2004,2006,2008,2020,2022,2024,2026,2028,2040,2042,2044,2046,2048,2060,2062,2064,2066,2068,2080,2082,2084,2086,2088,2200,2202,2204,2206,2208,2220,2222,2224,2226,2228,2240,2242,2244,2246,2248,2260,2262,2264,2266,2268,2280,2282,2284,2286,2288,2400,2402,2404,2406,2408,2420,2422,2424,2426,2428,2440,2442,2444,2446,2448,2460,2462,2464,2466,2468,2480,2482,2484,2486,2488,2600,2602,2604,2606,2608,2620,2622,2624,2626,2628,2640,2642,2644,2646,2648,2660,2662,2664,2666,2668,2680,2682,2684,2686,2688,2800,2802,2804,2806,2808,2820,2822,2824,2826,2828,2840,2842,2844,2846,2848,2860,2862,2864,2866,2868,2880,2882,2884,2886,2888\n"
     ]
    },
    {
     "data": {
      "text/plain": [
       "['2000',\n",
       " '2002',\n",
       " '2004',\n",
       " '2006',\n",
       " '2008',\n",
       " '2020',\n",
       " '2022',\n",
       " '2024',\n",
       " '2026',\n",
       " '2028',\n",
       " '2040',\n",
       " '2042',\n",
       " '2044',\n",
       " '2046',\n",
       " '2048',\n",
       " '2060',\n",
       " '2062',\n",
       " '2064',\n",
       " '2066',\n",
       " '2068',\n",
       " '2080',\n",
       " '2082',\n",
       " '2084',\n",
       " '2086',\n",
       " '2088',\n",
       " '2200',\n",
       " '2202',\n",
       " '2204',\n",
       " '2206',\n",
       " '2208',\n",
       " '2220',\n",
       " '2222',\n",
       " '2224',\n",
       " '2226',\n",
       " '2228',\n",
       " '2240',\n",
       " '2242',\n",
       " '2244',\n",
       " '2246',\n",
       " '2248',\n",
       " '2260',\n",
       " '2262',\n",
       " '2264',\n",
       " '2266',\n",
       " '2268',\n",
       " '2280',\n",
       " '2282',\n",
       " '2284',\n",
       " '2286',\n",
       " '2288',\n",
       " '2400',\n",
       " '2402',\n",
       " '2404',\n",
       " '2406',\n",
       " '2408',\n",
       " '2420',\n",
       " '2422',\n",
       " '2424',\n",
       " '2426',\n",
       " '2428',\n",
       " '2440',\n",
       " '2442',\n",
       " '2444',\n",
       " '2446',\n",
       " '2448',\n",
       " '2460',\n",
       " '2462',\n",
       " '2464',\n",
       " '2466',\n",
       " '2468',\n",
       " '2480',\n",
       " '2482',\n",
       " '2484',\n",
       " '2486',\n",
       " '2488',\n",
       " '2600',\n",
       " '2602',\n",
       " '2604',\n",
       " '2606',\n",
       " '2608',\n",
       " '2620',\n",
       " '2622',\n",
       " '2624',\n",
       " '2626',\n",
       " '2628',\n",
       " '2640',\n",
       " '2642',\n",
       " '2644',\n",
       " '2646',\n",
       " '2648',\n",
       " '2660',\n",
       " '2662',\n",
       " '2664',\n",
       " '2666',\n",
       " '2668',\n",
       " '2680',\n",
       " '2682',\n",
       " '2684',\n",
       " '2686',\n",
       " '2688',\n",
       " '2800',\n",
       " '2802',\n",
       " '2804',\n",
       " '2806',\n",
       " '2808',\n",
       " '2820',\n",
       " '2822',\n",
       " '2824',\n",
       " '2826',\n",
       " '2828',\n",
       " '2840',\n",
       " '2842',\n",
       " '2844',\n",
       " '2846',\n",
       " '2848',\n",
       " '2860',\n",
       " '2862',\n",
       " '2864',\n",
       " '2866',\n",
       " '2868',\n",
       " '2880',\n",
       " '2882',\n",
       " '2884',\n",
       " '2886',\n",
       " '2888']"
      ]
     },
     "execution_count": 13,
     "metadata": {},
     "output_type": "execute_result"
    }
   ],
   "source": [
    "items = []\n",
    "for i in range(1000, 3001):\n",
    "    s = str(i)\n",
    "    if (int(s[0])%2==0) and (int(s[1])%2==0) and (int(s[2])%2==0 and (int(s[3])%2==0)):\n",
    "        items.append(s)\n",
    "print( \",\".join(items))\n",
    "\n",
    "items"
   ]
  },
  {
   "cell_type": "code",
   "execution_count": null,
   "metadata": {},
   "outputs": [],
   "source": []
  },
  {
   "cell_type": "code",
   "execution_count": null,
   "metadata": {},
   "outputs": [],
   "source": [
    "4. Write a program that accepts a sentence and calculate the number of letters and digits\n",
    "\n",
    "Suppose if the entered string is\n",
    "\n",
    "Python0325 Then the output will be\n",
    "\n",
    "LETTERS: 6\n",
    "DIGITS:4"
   ]
  },
  {
   "cell_type": "code",
   "execution_count": 11,
   "metadata": {},
   "outputs": [
    {
     "name": "stdout",
     "output_type": "stream",
     "text": [
      "Input a stringPython0325\n",
      "Letters 6\n",
      "Digits 4\n"
     ]
    }
   ],
   "source": [
    "s = input(\"Input a string\")\n",
    "d=l=0\n",
    "for c in s:\n",
    "    if c.isdigit():\n",
    "        d=d+1\n",
    "    elif c.isalpha():\n",
    "        l=l+1\n",
    "    else:\n",
    "        pass\n",
    "print(\"Letters\", l)\n",
    "print(\"Digits\", d)"
   ]
  },
  {
   "cell_type": "code",
   "execution_count": null,
   "metadata": {},
   "outputs": [],
   "source": []
  },
  {
   "cell_type": "code",
   "execution_count": null,
   "metadata": {},
   "outputs": [],
   "source": [
    "5. Design a code which will find the given number is Palindrome number or not."
   ]
  },
  {
   "cell_type": "code",
   "execution_count": 10,
   "metadata": {},
   "outputs": [
    {
     "name": "stdout",
     "output_type": "stream",
     "text": [
      "Enter any number : 1333\n",
      "The given number is NOT a palindrome\n"
     ]
    }
   ],
   "source": [
    "num = input('Enter any number : ')\n",
    "try:\n",
    "    val = int(num)\n",
    "    if num == str(num)[::-1]:\n",
    "        print('The given number is PALINDROME')\n",
    "    else:\n",
    "        print('The given number is NOT a palindrome')\n",
    "except ValueError:\n",
    "    print(\"That's not a valid number, Try Again !\")"
   ]
  },
  {
   "cell_type": "code",
   "execution_count": null,
   "metadata": {},
   "outputs": [],
   "source": []
  }
 ],
 "metadata": {
  "kernelspec": {
   "display_name": "Python 3",
   "language": "python",
   "name": "python3"
  },
  "language_info": {
   "codemirror_mode": {
    "name": "ipython",
    "version": 3
   },
   "file_extension": ".py",
   "mimetype": "text/x-python",
   "name": "python",
   "nbconvert_exporter": "python",
   "pygments_lexer": "ipython3",
   "version": "3.7.3"
  }
 },
 "nbformat": 4,
 "nbformat_minor": 2
}
